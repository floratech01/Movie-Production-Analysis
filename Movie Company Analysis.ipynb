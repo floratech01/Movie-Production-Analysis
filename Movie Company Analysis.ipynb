{
 "cells": [
  {
   "cell_type": "code",
   "execution_count": 1,
   "id": "47e73fa8",
   "metadata": {},
   "outputs": [],
   "source": [
    "import numpy as np\n",
    "import pandas as pd\n",
    "import matplotlib.pyplot as plt"
   ]
  },
  {
   "cell_type": "code",
   "execution_count": 2,
   "id": "1f5bb7db",
   "metadata": {},
   "outputs": [],
   "source": [
    "df = pd.read_csv(r\"C:\\Users\\user\\Downloads\\Project Dataset.csv\")"
   ]
  },
  {
   "cell_type": "code",
   "execution_count": 3,
   "id": "77502d3f",
   "metadata": {},
   "outputs": [
    {
     "data": {
      "text/html": [
       "<div>\n",
       "<style scoped>\n",
       "    .dataframe tbody tr th:only-of-type {\n",
       "        vertical-align: middle;\n",
       "    }\n",
       "\n",
       "    .dataframe tbody tr th {\n",
       "        vertical-align: top;\n",
       "    }\n",
       "\n",
       "    .dataframe thead th {\n",
       "        text-align: right;\n",
       "    }\n",
       "</style>\n",
       "<table border=\"1\" class=\"dataframe\">\n",
       "  <thead>\n",
       "    <tr style=\"text-align: right;\">\n",
       "      <th></th>\n",
       "      <th>show_id</th>\n",
       "      <th>Type</th>\n",
       "      <th>title</th>\n",
       "      <th>director</th>\n",
       "      <th>Country</th>\n",
       "      <th>date added</th>\n",
       "      <th>rating</th>\n",
       "      <th>duration</th>\n",
       "      <th>listed_in</th>\n",
       "    </tr>\n",
       "  </thead>\n",
       "  <tbody>\n",
       "    <tr>\n",
       "      <th>0</th>\n",
       "      <td>s1</td>\n",
       "      <td>Movie</td>\n",
       "      <td>DICK jOHNSON IS deAD</td>\n",
       "      <td>Kirsten Johnson</td>\n",
       "      <td>United States</td>\n",
       "      <td>9/25/2021</td>\n",
       "      <td>PG-13</td>\n",
       "      <td>90 min</td>\n",
       "      <td>Documentaries</td>\n",
       "    </tr>\n",
       "    <tr>\n",
       "      <th>1</th>\n",
       "      <td>s3</td>\n",
       "      <td>TV Show</td>\n",
       "      <td>GANGLANdS</td>\n",
       "      <td>Julien Leclercq</td>\n",
       "      <td>France</td>\n",
       "      <td>(9/24/2021)</td>\n",
       "      <td>TV-MA</td>\n",
       "      <td>1 Season</td>\n",
       "      <td>Crime TV Shows, International TV Shows, TV Act...</td>\n",
       "    </tr>\n",
       "    <tr>\n",
       "      <th>2</th>\n",
       "      <td>s6</td>\n",
       "      <td>TV Show</td>\n",
       "      <td>MIDNIgHT MASS</td>\n",
       "      <td>Mike Flanagan</td>\n",
       "      <td>United States</td>\n",
       "      <td>(9/24/2021)</td>\n",
       "      <td>TV-MA</td>\n",
       "      <td>1 Season</td>\n",
       "      <td>TV Dramas, TV Horror, TV Mysteries</td>\n",
       "    </tr>\n",
       "    <tr>\n",
       "      <th>3</th>\n",
       "      <td>s14</td>\n",
       "      <td>Movie</td>\n",
       "      <td>COnfESsIoNs OF AN INVISIBLE GIRL</td>\n",
       "      <td>Bruno Garotti</td>\n",
       "      <td>Brazil</td>\n",
       "      <td>9/22/2021</td>\n",
       "      <td>TV-PG</td>\n",
       "      <td>91 min</td>\n",
       "      <td>Children &amp; Family Movies, Comedies</td>\n",
       "    </tr>\n",
       "    <tr>\n",
       "      <th>4</th>\n",
       "      <td>s8</td>\n",
       "      <td>Movie</td>\n",
       "      <td>sANKOFa</td>\n",
       "      <td>Haile Gerima</td>\n",
       "      <td>Us</td>\n",
       "      <td>9/24/2021</td>\n",
       "      <td>TV-MA</td>\n",
       "      <td>125 min</td>\n",
       "      <td>Dramas, Independent Movies, International Movies</td>\n",
       "    </tr>\n",
       "    <tr>\n",
       "      <th>...</th>\n",
       "      <td>...</td>\n",
       "      <td>...</td>\n",
       "      <td>...</td>\n",
       "      <td>...</td>\n",
       "      <td>...</td>\n",
       "      <td>...</td>\n",
       "      <td>...</td>\n",
       "      <td>...</td>\n",
       "      <td>...</td>\n",
       "    </tr>\n",
       "    <tr>\n",
       "      <th>8785</th>\n",
       "      <td>s8797</td>\n",
       "      <td>TV Show</td>\n",
       "      <td>YuNUs eMRE</td>\n",
       "      <td>Not Given</td>\n",
       "      <td>Turkey</td>\n",
       "      <td>1/17/2017</td>\n",
       "      <td>TV-PG</td>\n",
       "      <td>2 Seasons</td>\n",
       "      <td>International TV Shows, TV Dramas</td>\n",
       "    </tr>\n",
       "    <tr>\n",
       "      <th>8786</th>\n",
       "      <td>s8798</td>\n",
       "      <td>TV Show</td>\n",
       "      <td>zAK sTorm</td>\n",
       "      <td>Not Given</td>\n",
       "      <td>United States</td>\n",
       "      <td>9/13/2018</td>\n",
       "      <td>TV-Y7</td>\n",
       "      <td>3 Seasons</td>\n",
       "      <td>Kids' TV</td>\n",
       "    </tr>\n",
       "    <tr>\n",
       "      <th>8787</th>\n",
       "      <td>s8801</td>\n",
       "      <td>TV Show</td>\n",
       "      <td>ziNdAGi gULZAR haI</td>\n",
       "      <td>Not Given</td>\n",
       "      <td>Pakistan</td>\n",
       "      <td>12/15/2016</td>\n",
       "      <td>TV-PG</td>\n",
       "      <td>1 Season</td>\n",
       "      <td>International TV Shows, Romantic TV Shows, TV ...</td>\n",
       "    </tr>\n",
       "    <tr>\n",
       "      <th>8788</th>\n",
       "      <td>s8784</td>\n",
       "      <td>TV Show</td>\n",
       "      <td>yOKO</td>\n",
       "      <td>Not Given</td>\n",
       "      <td>Pakistan</td>\n",
       "      <td>6/23/2018</td>\n",
       "      <td>TV-Y</td>\n",
       "      <td>1 Season</td>\n",
       "      <td>Kids' TV</td>\n",
       "    </tr>\n",
       "    <tr>\n",
       "      <th>8789</th>\n",
       "      <td>s8786</td>\n",
       "      <td>TV Show</td>\n",
       "      <td>YoM</td>\n",
       "      <td>Not Given</td>\n",
       "      <td>Pakistan</td>\n",
       "      <td>06/07/2018</td>\n",
       "      <td>TV-Y7</td>\n",
       "      <td>1 Season</td>\n",
       "      <td>Kids' TV</td>\n",
       "    </tr>\n",
       "  </tbody>\n",
       "</table>\n",
       "<p>8790 rows × 9 columns</p>\n",
       "</div>"
      ],
      "text/plain": [
       "     show_id     Type                             title         director  \\\n",
       "0         s1    Movie              DICK jOHNSON IS deAD  Kirsten Johnson   \n",
       "1         s3  TV Show                         GANGLANdS  Julien Leclercq   \n",
       "2         s6  TV Show                     MIDNIgHT MASS    Mike Flanagan   \n",
       "3        s14    Movie  COnfESsIoNs OF AN INVISIBLE GIRL    Bruno Garotti   \n",
       "4         s8    Movie                           sANKOFa     Haile Gerima   \n",
       "...      ...      ...                               ...              ...   \n",
       "8785   s8797  TV Show                        YuNUs eMRE        Not Given   \n",
       "8786   s8798  TV Show                         zAK sTorm        Not Given   \n",
       "8787   s8801  TV Show                ziNdAGi gULZAR haI        Not Given   \n",
       "8788   s8784  TV Show                              yOKO        Not Given   \n",
       "8789   s8786  TV Show                               YoM        Not Given   \n",
       "\n",
       "            Country   date added rating   duration  \\\n",
       "0     United States    9/25/2021  PG-13     90 min   \n",
       "1            France  (9/24/2021)  TV-MA   1 Season   \n",
       "2     United States  (9/24/2021)  TV-MA   1 Season   \n",
       "3            Brazil    9/22/2021  TV-PG     91 min   \n",
       "4                Us    9/24/2021  TV-MA    125 min   \n",
       "...             ...          ...    ...        ...   \n",
       "8785         Turkey    1/17/2017  TV-PG  2 Seasons   \n",
       "8786  United States    9/13/2018  TV-Y7  3 Seasons   \n",
       "8787       Pakistan   12/15/2016  TV-PG   1 Season   \n",
       "8788       Pakistan    6/23/2018   TV-Y   1 Season   \n",
       "8789       Pakistan   06/07/2018  TV-Y7   1 Season   \n",
       "\n",
       "                                              listed_in  \n",
       "0                                         Documentaries  \n",
       "1     Crime TV Shows, International TV Shows, TV Act...  \n",
       "2                    TV Dramas, TV Horror, TV Mysteries  \n",
       "3                    Children & Family Movies, Comedies  \n",
       "4      Dramas, Independent Movies, International Movies  \n",
       "...                                                 ...  \n",
       "8785                  International TV Shows, TV Dramas  \n",
       "8786                                           Kids' TV  \n",
       "8787  International TV Shows, Romantic TV Shows, TV ...  \n",
       "8788                                           Kids' TV  \n",
       "8789                                           Kids' TV  \n",
       "\n",
       "[8790 rows x 9 columns]"
      ]
     },
     "execution_count": 3,
     "metadata": {},
     "output_type": "execute_result"
    }
   ],
   "source": [
    "df"
   ]
  },
  {
   "cell_type": "code",
   "execution_count": 4,
   "id": "ed609b57",
   "metadata": {},
   "outputs": [
    {
     "data": {
      "text/plain": [
       "Index(['show_id', 'Type', 'title', 'director', 'Country', 'date added',\n",
       "       'rating', 'duration', 'listed_in'],\n",
       "      dtype='object')"
      ]
     },
     "execution_count": 4,
     "metadata": {},
     "output_type": "execute_result"
    }
   ],
   "source": [
    "df.columns"
   ]
  },
  {
   "cell_type": "code",
   "execution_count": 5,
   "id": "d417152b",
   "metadata": {},
   "outputs": [
    {
     "data": {
      "text/plain": [
       "<bound method NDFrame.sample of      show_id     Type                             title         director  \\\n",
       "0         s1    Movie              DICK jOHNSON IS deAD  Kirsten Johnson   \n",
       "1         s3  TV Show                         GANGLANdS  Julien Leclercq   \n",
       "2         s6  TV Show                     MIDNIgHT MASS    Mike Flanagan   \n",
       "3        s14    Movie  COnfESsIoNs OF AN INVISIBLE GIRL    Bruno Garotti   \n",
       "4         s8    Movie                           sANKOFa     Haile Gerima   \n",
       "...      ...      ...                               ...              ...   \n",
       "8785   s8797  TV Show                        YuNUs eMRE        Not Given   \n",
       "8786   s8798  TV Show                         zAK sTorm        Not Given   \n",
       "8787   s8801  TV Show                ziNdAGi gULZAR haI        Not Given   \n",
       "8788   s8784  TV Show                              yOKO        Not Given   \n",
       "8789   s8786  TV Show                               YoM        Not Given   \n",
       "\n",
       "            Country   date added rating   duration  \\\n",
       "0     United States    9/25/2021  PG-13     90 min   \n",
       "1            France  (9/24/2021)  TV-MA   1 Season   \n",
       "2     United States  (9/24/2021)  TV-MA   1 Season   \n",
       "3            Brazil    9/22/2021  TV-PG     91 min   \n",
       "4                Us    9/24/2021  TV-MA    125 min   \n",
       "...             ...          ...    ...        ...   \n",
       "8785         Turkey    1/17/2017  TV-PG  2 Seasons   \n",
       "8786  United States    9/13/2018  TV-Y7  3 Seasons   \n",
       "8787       Pakistan   12/15/2016  TV-PG   1 Season   \n",
       "8788       Pakistan    6/23/2018   TV-Y   1 Season   \n",
       "8789       Pakistan   06/07/2018  TV-Y7   1 Season   \n",
       "\n",
       "                                              listed_in  \n",
       "0                                         Documentaries  \n",
       "1     Crime TV Shows, International TV Shows, TV Act...  \n",
       "2                    TV Dramas, TV Horror, TV Mysteries  \n",
       "3                    Children & Family Movies, Comedies  \n",
       "4      Dramas, Independent Movies, International Movies  \n",
       "...                                                 ...  \n",
       "8785                  International TV Shows, TV Dramas  \n",
       "8786                                           Kids' TV  \n",
       "8787  International TV Shows, Romantic TV Shows, TV ...  \n",
       "8788                                           Kids' TV  \n",
       "8789                                           Kids' TV  \n",
       "\n",
       "[8790 rows x 9 columns]>"
      ]
     },
     "execution_count": 5,
     "metadata": {},
     "output_type": "execute_result"
    }
   ],
   "source": [
    "df.sample"
   ]
  },
  {
   "cell_type": "code",
   "execution_count": 6,
   "id": "0b97ee7b",
   "metadata": {},
   "outputs": [
    {
     "name": "stdout",
     "output_type": "stream",
     "text": [
      "<class 'pandas.core.frame.DataFrame'>\n",
      "RangeIndex: 8790 entries, 0 to 8789\n",
      "Data columns (total 9 columns):\n",
      " #   Column      Non-Null Count  Dtype \n",
      "---  ------      --------------  ----- \n",
      " 0   show_id     8790 non-null   object\n",
      " 1   Type        8790 non-null   object\n",
      " 2   title       8790 non-null   object\n",
      " 3   director    8790 non-null   object\n",
      " 4   Country     8790 non-null   object\n",
      " 5   date added  8790 non-null   object\n",
      " 6   rating      8790 non-null   object\n",
      " 7   duration    8790 non-null   object\n",
      " 8   listed_in   8790 non-null   object\n",
      "dtypes: object(9)\n",
      "memory usage: 618.2+ KB\n"
     ]
    }
   ],
   "source": [
    "df.info()"
   ]
  },
  {
   "cell_type": "code",
   "execution_count": 7,
   "id": "63377826",
   "metadata": {},
   "outputs": [
    {
     "data": {
      "text/plain": [
       "show_id       0\n",
       "Type          0\n",
       "title         0\n",
       "director      0\n",
       "Country       0\n",
       "date added    0\n",
       "rating        0\n",
       "duration      0\n",
       "listed_in     0\n",
       "dtype: int64"
      ]
     },
     "execution_count": 7,
     "metadata": {},
     "output_type": "execute_result"
    }
   ],
   "source": [
    "df.isnull().sum()"
   ]
  },
  {
   "cell_type": "code",
   "execution_count": 8,
   "id": "2ebf2534",
   "metadata": {},
   "outputs": [
    {
     "data": {
      "text/plain": [
       "show_id       object\n",
       "Type          object\n",
       "title         object\n",
       "director      object\n",
       "Country       object\n",
       "date added    object\n",
       "rating        object\n",
       "duration      object\n",
       "listed_in     object\n",
       "dtype: object"
      ]
     },
     "execution_count": 8,
     "metadata": {},
     "output_type": "execute_result"
    }
   ],
   "source": [
    "df.dtypes"
   ]
  },
  {
   "cell_type": "code",
   "execution_count": 9,
   "id": "778af3cd",
   "metadata": {},
   "outputs": [
    {
     "data": {
      "text/plain": [
       "0"
      ]
     },
     "execution_count": 9,
     "metadata": {},
     "output_type": "execute_result"
    }
   ],
   "source": [
    "df.duplicated().sum()"
   ]
  },
  {
   "cell_type": "code",
   "execution_count": 10,
   "id": "e5ac5eb3",
   "metadata": {},
   "outputs": [],
   "source": [
    "df.drop_duplicates(inplace = True)"
   ]
  },
  {
   "cell_type": "code",
   "execution_count": 11,
   "id": "4e5e072f",
   "metadata": {},
   "outputs": [
    {
     "data": {
      "text/plain": [
       "Index(['Not Given', 'Rajiv Chilaka', 'Alastair Fothergill',\n",
       "       'Raúl Campos, Jan Suter', 'Suhas Kadav', 'Marcus Raboy', 'Jay Karas',\n",
       "       'Cathy Garcia-Molina', 'Martin Scorsese', 'Youssef Chahine',\n",
       "       ...\n",
       "       'Phillip Youmans', 'Zhang Yimou', 'Azazel Jacobs', 'Jung Ji-woo',\n",
       "       'Kenny Leon', 'Matt D'Avella', 'Parthiban', 'Scott McAboy',\n",
       "       'Raymie Muzquiz, Stu Livingston', 'Mozez Singh'],\n",
       "      dtype='object', name='director', length=4528)"
      ]
     },
     "execution_count": 11,
     "metadata": {},
     "output_type": "execute_result"
    }
   ],
   "source": [
    "df['director'].value_counts().index"
   ]
  },
  {
   "cell_type": "code",
   "execution_count": 12,
   "id": "bfa302bb",
   "metadata": {},
   "outputs": [
    {
     "data": {
      "text/plain": [
       "Index(['United States', 'India', 'United Kingdom', 'Pakistan', 'Not Given',\n",
       "       'Canada', 'Japan', 'South Korea', 'France', 'Spain',\n",
       "       ...\n",
       "       'Mozambique', 'Us', 'Zimbabwe', 'Iran', 'West Germany', 'Greece',\n",
       "       'Soviet Union', 'ITL', 'PK', 'Paraguay'],\n",
       "      dtype='object', name='Country', length=114)"
      ]
     },
     "execution_count": 12,
     "metadata": {},
     "output_type": "execute_result"
    }
   ],
   "source": [
    "df['Country'].value_counts().index"
   ]
  },
  {
   "cell_type": "code",
   "execution_count": 13,
   "id": "a18c228e",
   "metadata": {},
   "outputs": [
    {
     "data": {
      "text/plain": [
       "Index(['01/01/2020', '11/01/2019', '03/01/2018', '12/31/2019', '10/01/2018',\n",
       "       '10/01/2019', '07/01/2021', '11/01/2018', '09/01/2021', '01/01/2018',\n",
       "       ...\n",
       "       '8/14/2015', '7/14/2015', '4/17/2015', '07/10/2015', '6/29/2015',\n",
       "       '6/26/2015', '6/23/2015', '06/01/2015', '5/29/2015', '04/01/2014'],\n",
       "      dtype='object', name='date added', length=1714)"
      ]
     },
     "execution_count": 13,
     "metadata": {},
     "output_type": "execute_result"
    }
   ],
   "source": [
    "df['date added']. value_counts().index"
   ]
  },
  {
   "cell_type": "code",
   "execution_count": 14,
   "id": "c7bfd29a",
   "metadata": {},
   "outputs": [
    {
     "data": {
      "text/plain": [
       "dtype('O')"
      ]
     },
     "execution_count": 14,
     "metadata": {},
     "output_type": "execute_result"
    }
   ],
   "source": [
    "df['date added'].dtype"
   ]
  },
  {
   "cell_type": "code",
   "execution_count": 15,
   "id": "eb369651",
   "metadata": {},
   "outputs": [],
   "source": [
    "from datetime import datetime\n",
    "import time\n",
    "from time import strptime"
   ]
  },
  {
   "cell_type": "code",
   "execution_count": 16,
   "id": "44d9d758",
   "metadata": {},
   "outputs": [],
   "source": [
    "df['date added']= df['date added'].str.replace(\"(\", \" \")"
   ]
  },
  {
   "cell_type": "code",
   "execution_count": 17,
   "id": "6c9c2961",
   "metadata": {},
   "outputs": [],
   "source": [
    "df['date added']= df['date added'].str.replace(\")\", \" \")"
   ]
  },
  {
   "cell_type": "code",
   "execution_count": 18,
   "id": "0d670a1b",
   "metadata": {},
   "outputs": [
    {
     "data": {
      "text/plain": [
       "Index(['01/01/2020', '11/01/2019', '03/01/2018', '12/31/2019', '10/01/2018',\n",
       "       '10/01/2019', '07/01/2021', '11/01/2018', '09/01/2021', '01/01/2018',\n",
       "       ...\n",
       "       '8/14/2015', '7/14/2015', '4/17/2015', '07/10/2015', '6/29/2015',\n",
       "       '6/26/2015', '6/23/2015', '06/01/2015', '5/29/2015', '04/01/2014'],\n",
       "      dtype='object', name='date added', length=1714)"
      ]
     },
     "execution_count": 18,
     "metadata": {},
     "output_type": "execute_result"
    }
   ],
   "source": [
    "df['date added'].value_counts().index"
   ]
  },
  {
   "cell_type": "code",
   "execution_count": 19,
   "id": "c4949ff4",
   "metadata": {},
   "outputs": [
    {
     "data": {
      "text/plain": [
       "0         9/25/2021\n",
       "1        9/24/2021 \n",
       "2        9/24/2021 \n",
       "3         9/22/2021\n",
       "4         9/24/2021\n",
       "           ...     \n",
       "8785      1/17/2017\n",
       "8786      9/13/2018\n",
       "8787     12/15/2016\n",
       "8788      6/23/2018\n",
       "8789     06/07/2018\n",
       "Name: date added, Length: 8790, dtype: object"
      ]
     },
     "execution_count": 19,
     "metadata": {},
     "output_type": "execute_result"
    }
   ],
   "source": [
    "df['date added']"
   ]
  },
  {
   "cell_type": "code",
   "execution_count": 20,
   "id": "bbf57130",
   "metadata": {},
   "outputs": [
    {
     "name": "stdout",
     "output_type": "stream",
     "text": [
      "2021-09-25 00:00:00\n"
     ]
    }
   ],
   "source": [
    "date_str = '9/25/2021'\n",
    "date_format = '%m/%d/%Y'\n",
    "\n",
    "date_obj = datetime.strptime(date_str, date_format)\n",
    "print(date_obj)"
   ]
  },
  {
   "cell_type": "code",
   "execution_count": 21,
   "id": "91381c4c",
   "metadata": {},
   "outputs": [],
   "source": [
    "df['date added']= date_obj"
   ]
  },
  {
   "cell_type": "code",
   "execution_count": 22,
   "id": "f15269dc",
   "metadata": {},
   "outputs": [],
   "source": [
    "df['date added'] = df['date added'].astype('datetime64[ns]')"
   ]
  },
  {
   "cell_type": "code",
   "execution_count": 23,
   "id": "7d9de363",
   "metadata": {},
   "outputs": [
    {
     "data": {
      "text/plain": [
       "dtype('<M8[ns]')"
      ]
     },
     "execution_count": 23,
     "metadata": {},
     "output_type": "execute_result"
    }
   ],
   "source": [
    "df['date added'].dtype"
   ]
  },
  {
   "cell_type": "code",
   "execution_count": 24,
   "id": "95899245",
   "metadata": {},
   "outputs": [
    {
     "data": {
      "text/plain": [
       "DatetimeIndex(['2021-09-25'], dtype='datetime64[ns]', name='date added', freq=None)"
      ]
     },
     "execution_count": 24,
     "metadata": {},
     "output_type": "execute_result"
    }
   ],
   "source": [
    "df['date added'].value_counts().index"
   ]
  },
  {
   "cell_type": "code",
   "execution_count": 25,
   "id": "a8a085c6",
   "metadata": {},
   "outputs": [
    {
     "data": {
      "text/plain": [
       "show_id               object\n",
       "Type                  object\n",
       "title                 object\n",
       "director              object\n",
       "Country               object\n",
       "date added    datetime64[ns]\n",
       "rating                object\n",
       "duration              object\n",
       "listed_in             object\n",
       "dtype: object"
      ]
     },
     "execution_count": 25,
     "metadata": {},
     "output_type": "execute_result"
    }
   ],
   "source": [
    "df.dtypes"
   ]
  },
  {
   "cell_type": "code",
   "execution_count": 26,
   "id": "c2121df1",
   "metadata": {},
   "outputs": [
    {
     "data": {
      "text/plain": [
       "0       2021\n",
       "1       2021\n",
       "2       2021\n",
       "3       2021\n",
       "4       2021\n",
       "        ... \n",
       "8785    2021\n",
       "8786    2021\n",
       "8787    2021\n",
       "8788    2021\n",
       "8789    2021\n",
       "Name: date added, Length: 8790, dtype: int32"
      ]
     },
     "execution_count": 26,
     "metadata": {},
     "output_type": "execute_result"
    }
   ],
   "source": [
    "df['date added'].dt.year"
   ]
  },
  {
   "cell_type": "code",
   "execution_count": 72,
   "id": "35893632",
   "metadata": {},
   "outputs": [],
   "source": [
    "df['year-month'] = df['date added'].dt.to_period('M')\n"
   ]
  },
  {
   "cell_type": "code",
   "execution_count": 73,
   "id": "7a133f7b",
   "metadata": {},
   "outputs": [],
   "source": [
    "df['year-month'] = df['year-month'].astype('datetime64[ns]')"
   ]
  },
  {
   "cell_type": "code",
   "execution_count": 28,
   "id": "130ba041",
   "metadata": {},
   "outputs": [
    {
     "data": {
      "text/html": [
       "<div>\n",
       "<style scoped>\n",
       "    .dataframe tbody tr th:only-of-type {\n",
       "        vertical-align: middle;\n",
       "    }\n",
       "\n",
       "    .dataframe tbody tr th {\n",
       "        vertical-align: top;\n",
       "    }\n",
       "\n",
       "    .dataframe thead th {\n",
       "        text-align: right;\n",
       "    }\n",
       "</style>\n",
       "<table border=\"1\" class=\"dataframe\">\n",
       "  <thead>\n",
       "    <tr style=\"text-align: right;\">\n",
       "      <th></th>\n",
       "      <th>show_id</th>\n",
       "      <th>Type</th>\n",
       "      <th>title</th>\n",
       "      <th>director</th>\n",
       "      <th>Country</th>\n",
       "      <th>date added</th>\n",
       "      <th>rating</th>\n",
       "      <th>duration</th>\n",
       "      <th>listed_in</th>\n",
       "      <th>year-month</th>\n",
       "    </tr>\n",
       "  </thead>\n",
       "  <tbody>\n",
       "    <tr>\n",
       "      <th>0</th>\n",
       "      <td>s1</td>\n",
       "      <td>Movie</td>\n",
       "      <td>DICK jOHNSON IS deAD</td>\n",
       "      <td>Kirsten Johnson</td>\n",
       "      <td>United States</td>\n",
       "      <td>2021-09-25</td>\n",
       "      <td>PG-13</td>\n",
       "      <td>90 min</td>\n",
       "      <td>Documentaries</td>\n",
       "      <td>2021-09</td>\n",
       "    </tr>\n",
       "    <tr>\n",
       "      <th>1</th>\n",
       "      <td>s3</td>\n",
       "      <td>TV Show</td>\n",
       "      <td>GANGLANdS</td>\n",
       "      <td>Julien Leclercq</td>\n",
       "      <td>France</td>\n",
       "      <td>2021-09-25</td>\n",
       "      <td>TV-MA</td>\n",
       "      <td>1 Season</td>\n",
       "      <td>Crime TV Shows, International TV Shows, TV Act...</td>\n",
       "      <td>2021-09</td>\n",
       "    </tr>\n",
       "    <tr>\n",
       "      <th>2</th>\n",
       "      <td>s6</td>\n",
       "      <td>TV Show</td>\n",
       "      <td>MIDNIgHT MASS</td>\n",
       "      <td>Mike Flanagan</td>\n",
       "      <td>United States</td>\n",
       "      <td>2021-09-25</td>\n",
       "      <td>TV-MA</td>\n",
       "      <td>1 Season</td>\n",
       "      <td>TV Dramas, TV Horror, TV Mysteries</td>\n",
       "      <td>2021-09</td>\n",
       "    </tr>\n",
       "    <tr>\n",
       "      <th>3</th>\n",
       "      <td>s14</td>\n",
       "      <td>Movie</td>\n",
       "      <td>COnfESsIoNs OF AN INVISIBLE GIRL</td>\n",
       "      <td>Bruno Garotti</td>\n",
       "      <td>Brazil</td>\n",
       "      <td>2021-09-25</td>\n",
       "      <td>TV-PG</td>\n",
       "      <td>91 min</td>\n",
       "      <td>Children &amp; Family Movies, Comedies</td>\n",
       "      <td>2021-09</td>\n",
       "    </tr>\n",
       "    <tr>\n",
       "      <th>4</th>\n",
       "      <td>s8</td>\n",
       "      <td>Movie</td>\n",
       "      <td>sANKOFa</td>\n",
       "      <td>Haile Gerima</td>\n",
       "      <td>Us</td>\n",
       "      <td>2021-09-25</td>\n",
       "      <td>TV-MA</td>\n",
       "      <td>125 min</td>\n",
       "      <td>Dramas, Independent Movies, International Movies</td>\n",
       "      <td>2021-09</td>\n",
       "    </tr>\n",
       "    <tr>\n",
       "      <th>...</th>\n",
       "      <td>...</td>\n",
       "      <td>...</td>\n",
       "      <td>...</td>\n",
       "      <td>...</td>\n",
       "      <td>...</td>\n",
       "      <td>...</td>\n",
       "      <td>...</td>\n",
       "      <td>...</td>\n",
       "      <td>...</td>\n",
       "      <td>...</td>\n",
       "    </tr>\n",
       "    <tr>\n",
       "      <th>8785</th>\n",
       "      <td>s8797</td>\n",
       "      <td>TV Show</td>\n",
       "      <td>YuNUs eMRE</td>\n",
       "      <td>Not Given</td>\n",
       "      <td>Turkey</td>\n",
       "      <td>2021-09-25</td>\n",
       "      <td>TV-PG</td>\n",
       "      <td>2 Seasons</td>\n",
       "      <td>International TV Shows, TV Dramas</td>\n",
       "      <td>2021-09</td>\n",
       "    </tr>\n",
       "    <tr>\n",
       "      <th>8786</th>\n",
       "      <td>s8798</td>\n",
       "      <td>TV Show</td>\n",
       "      <td>zAK sTorm</td>\n",
       "      <td>Not Given</td>\n",
       "      <td>United States</td>\n",
       "      <td>2021-09-25</td>\n",
       "      <td>TV-Y7</td>\n",
       "      <td>3 Seasons</td>\n",
       "      <td>Kids' TV</td>\n",
       "      <td>2021-09</td>\n",
       "    </tr>\n",
       "    <tr>\n",
       "      <th>8787</th>\n",
       "      <td>s8801</td>\n",
       "      <td>TV Show</td>\n",
       "      <td>ziNdAGi gULZAR haI</td>\n",
       "      <td>Not Given</td>\n",
       "      <td>Pakistan</td>\n",
       "      <td>2021-09-25</td>\n",
       "      <td>TV-PG</td>\n",
       "      <td>1 Season</td>\n",
       "      <td>International TV Shows, Romantic TV Shows, TV ...</td>\n",
       "      <td>2021-09</td>\n",
       "    </tr>\n",
       "    <tr>\n",
       "      <th>8788</th>\n",
       "      <td>s8784</td>\n",
       "      <td>TV Show</td>\n",
       "      <td>yOKO</td>\n",
       "      <td>Not Given</td>\n",
       "      <td>Pakistan</td>\n",
       "      <td>2021-09-25</td>\n",
       "      <td>TV-Y</td>\n",
       "      <td>1 Season</td>\n",
       "      <td>Kids' TV</td>\n",
       "      <td>2021-09</td>\n",
       "    </tr>\n",
       "    <tr>\n",
       "      <th>8789</th>\n",
       "      <td>s8786</td>\n",
       "      <td>TV Show</td>\n",
       "      <td>YoM</td>\n",
       "      <td>Not Given</td>\n",
       "      <td>Pakistan</td>\n",
       "      <td>2021-09-25</td>\n",
       "      <td>TV-Y7</td>\n",
       "      <td>1 Season</td>\n",
       "      <td>Kids' TV</td>\n",
       "      <td>2021-09</td>\n",
       "    </tr>\n",
       "  </tbody>\n",
       "</table>\n",
       "<p>8790 rows × 10 columns</p>\n",
       "</div>"
      ],
      "text/plain": [
       "     show_id     Type                             title         director  \\\n",
       "0         s1    Movie              DICK jOHNSON IS deAD  Kirsten Johnson   \n",
       "1         s3  TV Show                         GANGLANdS  Julien Leclercq   \n",
       "2         s6  TV Show                     MIDNIgHT MASS    Mike Flanagan   \n",
       "3        s14    Movie  COnfESsIoNs OF AN INVISIBLE GIRL    Bruno Garotti   \n",
       "4         s8    Movie                           sANKOFa     Haile Gerima   \n",
       "...      ...      ...                               ...              ...   \n",
       "8785   s8797  TV Show                        YuNUs eMRE        Not Given   \n",
       "8786   s8798  TV Show                         zAK sTorm        Not Given   \n",
       "8787   s8801  TV Show                ziNdAGi gULZAR haI        Not Given   \n",
       "8788   s8784  TV Show                              yOKO        Not Given   \n",
       "8789   s8786  TV Show                               YoM        Not Given   \n",
       "\n",
       "            Country date added rating   duration  \\\n",
       "0     United States 2021-09-25  PG-13     90 min   \n",
       "1            France 2021-09-25  TV-MA   1 Season   \n",
       "2     United States 2021-09-25  TV-MA   1 Season   \n",
       "3            Brazil 2021-09-25  TV-PG     91 min   \n",
       "4                Us 2021-09-25  TV-MA    125 min   \n",
       "...             ...        ...    ...        ...   \n",
       "8785         Turkey 2021-09-25  TV-PG  2 Seasons   \n",
       "8786  United States 2021-09-25  TV-Y7  3 Seasons   \n",
       "8787       Pakistan 2021-09-25  TV-PG   1 Season   \n",
       "8788       Pakistan 2021-09-25   TV-Y   1 Season   \n",
       "8789       Pakistan 2021-09-25  TV-Y7   1 Season   \n",
       "\n",
       "                                              listed_in year-month  \n",
       "0                                         Documentaries    2021-09  \n",
       "1     Crime TV Shows, International TV Shows, TV Act...    2021-09  \n",
       "2                    TV Dramas, TV Horror, TV Mysteries    2021-09  \n",
       "3                    Children & Family Movies, Comedies    2021-09  \n",
       "4      Dramas, Independent Movies, International Movies    2021-09  \n",
       "...                                                 ...        ...  \n",
       "8785                  International TV Shows, TV Dramas    2021-09  \n",
       "8786                                           Kids' TV    2021-09  \n",
       "8787  International TV Shows, Romantic TV Shows, TV ...    2021-09  \n",
       "8788                                           Kids' TV    2021-09  \n",
       "8789                                           Kids' TV    2021-09  \n",
       "\n",
       "[8790 rows x 10 columns]"
      ]
     },
     "execution_count": 28,
     "metadata": {},
     "output_type": "execute_result"
    }
   ],
   "source": [
    "df"
   ]
  },
  {
   "cell_type": "code",
   "execution_count": 29,
   "id": "8186b76c",
   "metadata": {},
   "outputs": [],
   "source": [
    "Most_popular_director = df.groupby('director')['director'].count()[1:].sort_values(ascending = False)"
   ]
  },
  {
   "cell_type": "code",
   "execution_count": 30,
   "id": "ec2fa1e8",
   "metadata": {},
   "outputs": [
    {
     "data": {
      "text/plain": [
       "director\n",
       "Not Given                                2588\n",
       "Rajiv Chilaka                              20\n",
       "Alastair Fothergill                        18\n",
       "Raúl Campos, Jan Suter                     18\n",
       "Suhas Kadav                                16\n",
       "                                         ... \n",
       "Ishi Rudell, Jayson Thiessen                1\n",
       "Ismail Farouk, Hazem Fouda                  1\n",
       "Israel Adrián Caetano, Bruno Stagnaro       1\n",
       "Ivan Andrew Payawal                         1\n",
       "Khalid Mohamed                              1\n",
       "Name: director, Length: 4527, dtype: int64"
      ]
     },
     "execution_count": 30,
     "metadata": {},
     "output_type": "execute_result"
    }
   ],
   "source": [
    "Most_popular_director"
   ]
  },
  {
   "cell_type": "code",
   "execution_count": 31,
   "id": "688424e0",
   "metadata": {},
   "outputs": [
    {
     "data": {
      "text/plain": [
       "director\n",
       "Rajiv Chilaka             20\n",
       "Alastair Fothergill       18\n",
       "Raúl Campos, Jan Suter    18\n",
       "Suhas Kadav               16\n",
       "Marcus Raboy              16\n",
       "Jay Karas                 14\n",
       "Cathy Garcia-Molina       13\n",
       "Name: director, dtype: int64"
      ]
     },
     "execution_count": 31,
     "metadata": {},
     "output_type": "execute_result"
    }
   ],
   "source": [
    "Most_popular_director.head(8)[1:9]"
   ]
  },
  {
   "cell_type": "code",
   "execution_count": 32,
   "id": "1dfea566",
   "metadata": {},
   "outputs": [],
   "source": [
    "Most_popular_director = Most_popular_director.head(8)[1:9]"
   ]
  },
  {
   "cell_type": "code",
   "execution_count": 33,
   "id": "e0bb504e",
   "metadata": {},
   "outputs": [
    {
     "data": {
      "text/plain": [
       "director\n",
       "Rajiv Chilaka             20\n",
       "Alastair Fothergill       18\n",
       "Raúl Campos, Jan Suter    18\n",
       "Suhas Kadav               16\n",
       "Marcus Raboy              16\n",
       "Jay Karas                 14\n",
       "Cathy Garcia-Molina       13\n",
       "Name: director, dtype: int64"
      ]
     },
     "execution_count": 33,
     "metadata": {},
     "output_type": "execute_result"
    }
   ],
   "source": [
    "Most_popular_director"
   ]
  },
  {
   "cell_type": "code",
   "execution_count": 34,
   "id": "8a2f2c04",
   "metadata": {},
   "outputs": [
    {
     "data": {
      "image/png": "[encoded data removed]",
      "text/plain": [
       "<Figure size 1000x500 with 1 Axes>"
      ]
     },
     "metadata": {},
     "output_type": "display_data"
    },
    {
     "data": {
      "text/plain": [
       "(None,)"
      ]
     },
     "execution_count": 34,
     "metadata": {},
     "output_type": "execute_result"
    }
   ],
   "source": [
    "plt.figure(figsize = [10,5])\n",
    "plt.bar_label(plt.barh(Most_popular_director.index, Most_popular_director.values, height = 0.8, color = 'orange'))\n",
    "plt.xticks([])\n",
    "plt.title('Most Popular Director', loc = 'left', pad = 5)\n",
    "spines = ['left', 'right', 'bottom', 'top']\n",
    "for spine in spines:\n",
    "    plt.gca().spines[spine].set_visible(False)\n",
    "plt.show(),"
   ]
  },
  {
   "cell_type": "code",
   "execution_count": 35,
   "id": "517438e8",
   "metadata": {},
   "outputs": [],
   "source": [
    "Most_and_least_movie_by_country = df.groupby('Country')['Country'].count().sort_values(ascending = False)"
   ]
  },
  {
   "cell_type": "code",
   "execution_count": 36,
   "id": "82392984",
   "metadata": {},
   "outputs": [
    {
     "data": {
      "text/plain": [
       "Country\n",
       "United States     2920\n",
       "India             1047\n",
       "United Kingdom     604\n",
       "Pakistan           419\n",
       "Not Given          287\n",
       "                  ... \n",
       "Guatemala            1\n",
       "Greece               1\n",
       "Mozambique           1\n",
       "Cyprus               1\n",
       "PK                   1\n",
       "Name: Country, Length: 114, dtype: int64"
      ]
     },
     "execution_count": 36,
     "metadata": {},
     "output_type": "execute_result"
    }
   ],
   "source": [
    "Most_and_least_movie_by_country"
   ]
  },
  {
   "cell_type": "code",
   "execution_count": 37,
   "id": "e15662a9",
   "metadata": {},
   "outputs": [
    {
     "data": {
      "text/plain": [
       "Country\n",
       "United States     2920\n",
       "India             1047\n",
       "United Kingdom     604\n",
       "Pakistan           419\n",
       "Not Given          287\n",
       "Name: Country, dtype: int64"
      ]
     },
     "execution_count": 37,
     "metadata": {},
     "output_type": "execute_result"
    }
   ],
   "source": [
    "Most_and_least_movie_by_country.head(5)"
   ]
  },
  {
   "cell_type": "code",
   "execution_count": 38,
   "id": "537d30a9",
   "metadata": {},
   "outputs": [
    {
     "data": {
      "image/png": "[encoded data removed]",
      "text/plain": [
       "<Figure size 900x600 with 1 Axes>"
      ]
     },
     "metadata": {},
     "output_type": "display_data"
    }
   ],
   "source": [
    "plt.figure(figsize = (9,6))\n",
    "plt.bar(Most_and_least_movie_by_country.head(5).index, Most_and_least_movie_by_country.head(5).values, width = 0.6, color = 'green' )\n",
    "plt.xticks(rotation = 30)\n",
    "plt.title('Top 5 country that make most movie', loc = 'left', pad = 10)\n",
    "plt.bar_label(plt.bar(Most_and_least_movie_by_country.head(5).index, Most_and_least_movie_by_country.head(5).values, width = 0.6, color = 'orange'))\n",
    "plt.yticks([])\n",
    "spines = ['left', 'right', 'bottom', 'top']\n",
    "for spine in spines:\n",
    "    plt.gca().spines[spine].set_visible(False)\n",
    "plt.show()"
   ]
  },
  {
   "cell_type": "code",
   "execution_count": 39,
   "id": "63ecb52c",
   "metadata": {},
   "outputs": [
    {
     "data": {
      "text/plain": [
       "Country\n",
       "Guatemala     1\n",
       "Greece        1\n",
       "Mozambique    1\n",
       "Cyprus        1\n",
       "PK            1\n",
       "Name: Country, dtype: int64"
      ]
     },
     "execution_count": 39,
     "metadata": {},
     "output_type": "execute_result"
    }
   ],
   "source": [
    "Most_and_least_movie_by_country.tail(5)"
   ]
  },
  {
   "cell_type": "code",
   "execution_count": 40,
   "id": "992df266",
   "metadata": {},
   "outputs": [
    {
     "data": {
      "image/png": "[encoded data removed]",
      "text/plain": [
       "<Figure size 900x600 with 1 Axes>"
      ]
     },
     "metadata": {},
     "output_type": "display_data"
    }
   ],
   "source": [
    "\n",
    "plt.figure(figsize = (9,6))\n",
    "plt.bar(Most_and_least_movie_by_country.tail(5).index, Most_and_least_movie_by_country.tail(5).values, width = 0.6, color = 'green' )\n",
    "plt.xticks(rotation = 30)\n",
    "plt.title('Least 5 country that make least movies', loc = 'left', pad = 10)\n",
    "plt.bar_label(plt.bar(Most_and_least_movie_by_country.tail(5).index, Most_and_least_movie_by_country.tail(5).values, width = 0.6, color = 'orange'))\n",
    "plt.yticks([])\n",
    "spines = ['left', 'right', 'bottom', 'top']\n",
    "for spine in spines:\n",
    "    plt.gca().spines[spine].set_visible(False)\n",
    "plt.show()"
   ]
  },
  {
   "cell_type": "code",
   "execution_count": 41,
   "id": "b264630b",
   "metadata": {},
   "outputs": [
    {
     "data": {
      "text/plain": [
       "0          90 min\n",
       "1        1 Season\n",
       "2        1 Season\n",
       "3          91 min\n",
       "4         125 min\n",
       "          ...    \n",
       "8785    2 Seasons\n",
       "8786    3 Seasons\n",
       "8787     1 Season\n",
       "8788     1 Season\n",
       "8789     1 Season\n",
       "Name: duration, Length: 8790, dtype: object"
      ]
     },
     "execution_count": 41,
     "metadata": {},
     "output_type": "execute_result"
    }
   ],
   "source": [
    "df['duration']"
   ]
  },
  {
   "cell_type": "code",
   "execution_count": 42,
   "id": "3fca4c44",
   "metadata": {},
   "outputs": [
    {
     "data": {
      "text/plain": [
       "0       2021\n",
       "1       2021\n",
       "2       2021\n",
       "3       2021\n",
       "4       2021\n",
       "        ... \n",
       "8785    2021\n",
       "8786    2021\n",
       "8787    2021\n",
       "8788    2021\n",
       "8789    2021\n",
       "Name: date added, Length: 8790, dtype: int32"
      ]
     },
     "execution_count": 42,
     "metadata": {},
     "output_type": "execute_result"
    }
   ],
   "source": [
    "df['date added'].dt.year"
   ]
  },
  {
   "cell_type": "code",
   "execution_count": 43,
   "id": "0c5714b2",
   "metadata": {},
   "outputs": [],
   "source": [
    "df['Today'] = pd.to_datetime('today').normalize()"
   ]
  },
  {
   "cell_type": "code",
   "execution_count": 44,
   "id": "7f0db959",
   "metadata": {},
   "outputs": [
    {
     "data": {
      "text/plain": [
       "0      2024-02-20\n",
       "1      2024-02-20\n",
       "2      2024-02-20\n",
       "3      2024-02-20\n",
       "4      2024-02-20\n",
       "          ...    \n",
       "8785   2024-02-20\n",
       "8786   2024-02-20\n",
       "8787   2024-02-20\n",
       "8788   2024-02-20\n",
       "8789   2024-02-20\n",
       "Name: Today, Length: 8790, dtype: datetime64[ns]"
      ]
     },
     "execution_count": 44,
     "metadata": {},
     "output_type": "execute_result"
    }
   ],
   "source": [
    "df['Today']"
   ]
  },
  {
   "cell_type": "code",
   "execution_count": 82,
   "id": "f9e9b85a",
   "metadata": {},
   "outputs": [],
   "source": [
    "df['days_from_movie_released'] = df['Today'] - df['date added']"
   ]
  },
  {
   "cell_type": "code",
   "execution_count": 83,
   "id": "3a45d29f",
   "metadata": {},
   "outputs": [
    {
     "data": {
      "text/plain": [
       "0      878 days\n",
       "1      878 days\n",
       "2      878 days\n",
       "3      878 days\n",
       "4      878 days\n",
       "         ...   \n",
       "8785   878 days\n",
       "8786   878 days\n",
       "8787   878 days\n",
       "8788   878 days\n",
       "8789   878 days\n",
       "Name: days_from_movie_released, Length: 8790, dtype: timedelta64[ns]"
      ]
     },
     "execution_count": 83,
     "metadata": {},
     "output_type": "execute_result"
    }
   ],
   "source": [
    "df['days_from_movie_released']"
   ]
  },
  {
   "cell_type": "code",
   "execution_count": 47,
   "id": "d4659922",
   "metadata": {},
   "outputs": [
    {
     "data": {
      "text/plain": [
       "Index(['show_id', 'Type', 'title', 'director', 'Country', 'date added',\n",
       "       'rating', 'duration', 'listed_in', 'year-month', 'Today', 'new date'],\n",
       "      dtype='object')"
      ]
     },
     "execution_count": 47,
     "metadata": {},
     "output_type": "execute_result"
    }
   ],
   "source": [
    "df.columns"
   ]
  },
  {
   "cell_type": "code",
   "execution_count": 48,
   "id": "13576d27",
   "metadata": {},
   "outputs": [],
   "source": [
    "df['year'] = df['date added'] .dt.year"
   ]
  },
  {
   "cell_type": "code",
   "execution_count": 49,
   "id": "f83a4aae",
   "metadata": {},
   "outputs": [
    {
     "data": {
      "text/plain": [
       "0       2021\n",
       "1       2021\n",
       "2       2021\n",
       "3       2021\n",
       "4       2021\n",
       "        ... \n",
       "8785    2021\n",
       "8786    2021\n",
       "8787    2021\n",
       "8788    2021\n",
       "8789    2021\n",
       "Name: year, Length: 8790, dtype: int32"
      ]
     },
     "execution_count": 49,
     "metadata": {},
     "output_type": "execute_result"
    }
   ],
   "source": [
    "df['year']"
   ]
  },
  {
   "cell_type": "code",
   "execution_count": 75,
   "id": "27c71e06",
   "metadata": {},
   "outputs": [],
   "source": [
    "df['year'] = df['year-month'].dt.year"
   ]
  },
  {
   "cell_type": "code",
   "execution_count": 76,
   "id": "30901d80",
   "metadata": {},
   "outputs": [
    {
     "data": {
      "text/plain": [
       "0       2021\n",
       "1       2021\n",
       "2       2021\n",
       "3       2021\n",
       "4       2021\n",
       "        ... \n",
       "8785    2021\n",
       "8786    2021\n",
       "8787    2021\n",
       "8788    2021\n",
       "8789    2021\n",
       "Name: year, Length: 8790, dtype: int32"
      ]
     },
     "execution_count": 76,
     "metadata": {},
     "output_type": "execute_result"
    }
   ],
   "source": [
    "df['year']"
   ]
  },
  {
   "cell_type": "code",
   "execution_count": 77,
   "id": "4062ec2a",
   "metadata": {},
   "outputs": [],
   "source": [
    "movie_trend = df.groupby('year').size()\n"
   ]
  },
  {
   "cell_type": "code",
   "execution_count": 78,
   "id": "7d3ff5bd",
   "metadata": {},
   "outputs": [
    {
     "data": {
      "text/plain": [
       "year\n",
       "2021    8790\n",
       "dtype: int64"
      ]
     },
     "execution_count": 78,
     "metadata": {},
     "output_type": "execute_result"
    }
   ],
   "source": [
    "movie_trend"
   ]
  },
  {
   "cell_type": "code",
   "execution_count": 81,
   "id": "13daa943",
   "metadata": {},
   "outputs": [
    {
     "data": {
      "image/png": "[encoded data removed]",
      "text/plain": [
       "<Figure size 1000x600 with 1 Axes>"
      ]
     },
     "metadata": {},
     "output_type": "display_data"
    }
   ],
   "source": [
    "plt.figure(figsize=(10, 6))\n",
    "plt.plot(movie_trend.index, movie_trend.values, marker='o', linestyle='-')\n",
    "plt.title('Movie Trend Over the Years')\n",
    "plt.xlabel('Year')\n",
    "plt.ylabel('Number of Movies')\n",
    "plt.grid(True)\n",
    "plt.xticks(movie_trend.index, rotation=45)\n",
    "plt.tight_layout()\n",
    "plt.show()"
   ]
  },
  {
   "cell_type": "code",
   "execution_count": 52,
   "id": "909d8ad8",
   "metadata": {},
   "outputs": [],
   "source": [
    "Most_country_genre_mix = df.groupby('Type')['Type'].count().sort_values(ascending = False)"
   ]
  },
  {
   "cell_type": "code",
   "execution_count": 53,
   "id": "1dbefa26",
   "metadata": {},
   "outputs": [
    {
     "data": {
      "text/plain": [
       "Type\n",
       "Movie      6110\n",
       "TV Show    2417\n",
       "TVS         133\n",
       "TV          112\n",
       "Mvie          5\n",
       "Mve           3\n",
       "Mv            2\n",
       "Mvi           2\n",
       "m             2\n",
       "tv            2\n",
       "M             1\n",
       "MvE           1\n",
       "Name: Type, dtype: int64"
      ]
     },
     "execution_count": 53,
     "metadata": {},
     "output_type": "execute_result"
    }
   ],
   "source": [
    "Most_country_genre_mix"
   ]
  },
  {
   "cell_type": "code",
   "execution_count": 54,
   "id": "4fb3003a",
   "metadata": {},
   "outputs": [
    {
     "data": {
      "image/png": "[encoded data removed]",
      "text/plain": [
       "<Figure size 1000x500 with 1 Axes>"
      ]
     },
     "metadata": {},
     "output_type": "display_data"
    },
    {
     "data": {
      "text/plain": [
       "(None,)"
      ]
     },
     "execution_count": 54,
     "metadata": {},
     "output_type": "execute_result"
    }
   ],
   "source": [
    "Most_country_genre_mix = df.groupby('Type')['Type'].count().sort_values(ascending = True)\n",
    "plt.figure(figsize = [10,5])\n",
    "plt.bar_label(plt.barh(Most_country_genre_mix.index, Most_country_genre_mix.values, height = 0.6, color = 'orange'))\n",
    "plt.xticks([])\n",
    "plt.title('Most Popular country-genre mix', loc = 'left', pad = 5)\n",
    "spines = ['left', 'right', 'bottom', 'top']\n",
    "for spine in spines:\n",
    "    plt.gca().spines[spine].set_visible(False)\n",
    "plt.show(),"
   ]
  },
  {
   "cell_type": "code",
   "execution_count": 74,
   "id": "d59a4b77",
   "metadata": {},
   "outputs": [
    {
     "data": {
      "text/plain": [
       "show_id                    object\n",
       "Type                       object\n",
       "title                      object\n",
       "director                   object\n",
       "Country                    object\n",
       "date added         datetime64[ns]\n",
       "rating                     object\n",
       "duration                   object\n",
       "listed_in                  object\n",
       "year-month         datetime64[ns]\n",
       "Today              datetime64[ns]\n",
       "new date          timedelta64[ns]\n",
       "year                        int32\n",
       "total duration              int64\n",
       "dtype: object"
      ]
     },
     "execution_count": 74,
     "metadata": {},
     "output_type": "execute_result"
    }
   ],
   "source": [
    "df.dtypes"
   ]
  },
  {
   "cell_type": "code",
   "execution_count": 85,
   "id": "d0a5ff9b",
   "metadata": {},
   "outputs": [],
   "source": [
    "season = 30\n"
   ]
  },
  {
   "cell_type": "code",
   "execution_count": 86,
   "id": "71aeffd0",
   "metadata": {},
   "outputs": [],
   "source": [
    "df['movie_duration'] = df['duration'] * season"
   ]
  },
  {
   "cell_type": "code",
   "execution_count": 87,
   "id": "fff22c6f",
   "metadata": {},
   "outputs": [
    {
     "data": {
      "text/plain": [
       "0       90 min90 min90 min90 min90 min90 min90 min90 m...\n",
       "1       1 Season1 Season1 Season1 Season1 Season1 Seas...\n",
       "2       1 Season1 Season1 Season1 Season1 Season1 Seas...\n",
       "3       91 min91 min91 min91 min91 min91 min91 min91 m...\n",
       "4       125 min125 min125 min125 min125 min125 min125 ...\n",
       "                              ...                        \n",
       "8785    2 Seasons2 Seasons2 Seasons2 Seasons2 Seasons2...\n",
       "8786    3 Seasons3 Seasons3 Seasons3 Seasons3 Seasons3...\n",
       "8787    1 Season1 Season1 Season1 Season1 Season1 Seas...\n",
       "8788    1 Season1 Season1 Season1 Season1 Season1 Seas...\n",
       "8789    1 Season1 Season1 Season1 Season1 Season1 Seas...\n",
       "Name: movie_duration, Length: 8790, dtype: object"
      ]
     },
     "execution_count": 87,
     "metadata": {},
     "output_type": "execute_result"
    }
   ],
   "source": [
    "df['movie_duration']\n"
   ]
  },
  {
   "cell_type": "code",
   "execution_count": 110,
   "id": "21d6c2f8",
   "metadata": {},
   "outputs": [],
   "source": [
    "movie_duration_by_country = df.groupby('Country')['movie_duration'].count().sort_values(ascending = False)"
   ]
  },
  {
   "cell_type": "code",
   "execution_count": 111,
   "id": "13461783",
   "metadata": {},
   "outputs": [
    {
     "data": {
      "text/plain": [
       "Country\n",
       "United States     2920\n",
       "India             1047\n",
       "United Kingdom     604\n",
       "Pakistan           419\n",
       "Not Given          287\n",
       "                  ... \n",
       "Guatemala            1\n",
       "Greece               1\n",
       "Mozambique           1\n",
       "Cyprus               1\n",
       "PK                   1\n",
       "Name: movie_duration, Length: 114, dtype: int64"
      ]
     },
     "execution_count": 111,
     "metadata": {},
     "output_type": "execute_result"
    }
   ],
   "source": [
    "movie_duration_by_country"
   ]
  },
  {
   "cell_type": "code",
   "execution_count": 115,
   "id": "2dd73150",
   "metadata": {},
   "outputs": [],
   "source": [
    "avg_movie_duration_by_country = df.groupby('Country')['movie_duration_by_country'].mean()"
   ]
  },
  {
   "cell_type": "code",
   "execution_count": 116,
   "id": "0f37ba65",
   "metadata": {},
   "outputs": [
    {
     "data": {
      "text/plain": [
       "Country\n",
       "United States     2920\n",
       "India             1047\n",
       "United Kingdom     604\n",
       "Pakistan           419\n",
       "Name: movie_duration, dtype: int64"
      ]
     },
     "execution_count": 116,
     "metadata": {},
     "output_type": "execute_result"
    }
   ],
   "source": [
    "average_duration_by_country.head(4)"
   ]
  },
  {
   "cell_type": "code",
   "execution_count": 118,
   "id": "a3c92c59",
   "metadata": {},
   "outputs": [
    {
     "data": {
      "image/png": "[encoded data removed]",
      "text/plain": [
       "<Figure size 1000x500 with 1 Axes>"
      ]
     },
     "metadata": {},
     "output_type": "display_data"
    },
    {
     "data": {
      "text/plain": [
       "(None,)"
      ]
     },
     "execution_count": 118,
     "metadata": {},
     "output_type": "execute_result"
    }
   ],
   "source": [
    "average_movie_duration_by_country = df.groupby('Country')['movie_duration_by_country'].mean().sort_values(ascending = True)\n",
    "plt.figure(figsize = [10,5])\n",
    "plt.bar_label(plt.barh(average_duration_by_country.head(4).index, average_duration_by_country.head(4).values, height = 0.6, color = 'orange'))\n",
    "plt.xticks([])\n",
    "plt.title('Countries with highest avaerage movie duration', loc = 'left', pad = 5)\n",
    "spines = ['left', 'right', 'bottom', 'top']\n",
    "for spine in spines:\n",
    "    plt.gca().spines[spine].set_visible(False)\n",
    "plt.show(),"
   ]
  },
  {
   "cell_type": "code",
   "execution_count": null,
   "id": "35ba054c",
   "metadata": {},
   "outputs": [],
   "source": []
  }
 ],
 "metadata": {
  "kernelspec": {
   "display_name": "Python 3 (ipykernel)",
   "language": "python",
   "name": "python3"
  },
  "language_info": {
   "codemirror_mode": {
    "name": "ipython",
    "version": 3
   },
   "file_extension": ".py",
   "mimetype": "text/x-python",
   "name": "python",
   "nbconvert_exporter": "python",
   "pygments_lexer": "ipython3",
   "version": "3.11.5"
  }
 },
 "nbformat": 4,
 "nbformat_minor": 5
}
